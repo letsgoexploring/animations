{
 "cells": [
  {
   "cell_type": "code",
   "execution_count": 1,
   "metadata": {},
   "outputs": [],
   "source": [
    "import matplotlib\n",
    "matplotlib.use(\"Agg\")\n",
    "import matplotlib.pyplot as plt\n",
    "import matplotlib.animation as animation\n",
    "import matplotlib.cm as cm\n",
    "import numpy as np\n",
    "import fredpy as fp\n",
    "import subprocess\n",
    "\n",
    "plt.style.use('classic')\n",
    "plt.rcParams['figure.facecolor'] = 'white'"
   ]
  },
  {
   "cell_type": "code",
   "execution_count": 2,
   "metadata": {},
   "outputs": [],
   "source": [
    "# Dowload data\n",
    "u = fp.series('LNS14000028')\n",
    "p = fp.series('CPIAUCSL')\n",
    "\n",
    "# Construct the inflation series\n",
    "p = p.pc(annualized=True)\n",
    "p = p.ma(length=6,center=True)\n",
    "\n",
    "# Make sure that the data inflation and unemployment series cover the same time interval\n",
    "p,u = fp.window_equalize([p,u])\n",
    "\n",
    "# Filter the data\n",
    "p = p.bp_filter(low=24,high=84,K=84)[0].data\n",
    "u = u.bp_filter(low=24,high=84,K=84)[0].data\n",
    "\n",
    "# Set data for animation\n",
    "years = u.index.year.astype(str)\n",
    "n=len(u)"
   ]
  },
  {
   "cell_type": "code",
   "execution_count": 3,
   "metadata": {},
   "outputs": [],
   "source": [
    "# Plot setup\n",
    "font = {'weight' : 'bold',\n",
    "        'size'   : 15}\n",
    "plt.rc('font', **font)\n",
    "plt.rcParams['xtick.major.pad']='8'\n",
    "plt.rcParams['ytick.major.pad']='8'\n",
    "\n",
    "# colormap\n",
    "cmap = plt.get_cmap('rainbow', len(u))\n",
    "colors = [cmap(i) for i in range(len(u))]\n",
    "\n",
    "# Initialize figure\n",
    "fig = plt.figure(figsize=(16,9))\n",
    "ax = fig.add_subplot(1,1,1)\n",
    "ax.grid()\n",
    "xdata, ydata = [], []\n",
    "ax.set_ylim(-4, 5)\n",
    "ax.set_xlim(-2, 2)\n",
    "ax.set_xlabel('Unemployment rate (%)')\n",
    "ax.set_ylabel('Inflation rate (%)')\n",
    "ax.set_title('US inflation and unemployment: BP-filtered data',fontsize=20)\n",
    "\n",
    "text = ax.text(1.95, 4.35, '',fontsize=18,horizontalalignment='right')\n",
    "ax.text(1.125,-3.75, 'Created by Brian C. Jenkins',fontsize=11, color='black',alpha=0.5)\n",
    "\n",
    "fig.tight_layout()"
   ]
  },
  {
   "cell_type": "code",
   "execution_count": 4,
   "metadata": {},
   "outputs": [],
   "source": [
    "def update_plot(i):\n",
    "\n",
    "    scatter = ax.plot(u.iloc[i],p.iloc[i],'o',fillstyle='none',alpha=0.9,markeredgecolor=colors[i], markeredgewidth=2,markersize=13)\n",
    "    text.set_text(years[i])\n",
    "\n",
    "    return scatter, text"
   ]
  },
  {
   "cell_type": "code",
   "execution_count": null,
   "metadata": {},
   "outputs": [],
   "source": [
    "# Make directories for output if they don't exist\n",
    "if not os.path.isdir('../video'):\n",
    "    os.mkdir('../video')\n",
    "\n",
    "if not os.path.isdir('../image'):\n",
    "    os.mkdir('../image')"
   ]
  },
  {
   "cell_type": "code",
   "execution_count": 5,
   "metadata": {
    "collapsed": false,
    "jupyter": {
     "outputs_hidden": false
    }
   },
   "outputs": [],
   "source": [
    "# Set up formatting for the movie files\n",
    "Writer = animation.writers['ffmpeg']\n",
    "writer = Writer(fps=10, metadata=dict(artist='Brian C Jenkins'), bitrate=5000)\n",
    "\n",
    "# Make the animation\n",
    "ani = animation.FuncAnimation(fig, update_plot, frames = n,fargs = (), blit=False,repeat=False,interval=20)\n",
    "\n",
    "# Save the animation as .mp4\n",
    "# ani.save('../video/US_Inflation_Unemployment_Monthly_BP_Filtered.ogv',fps=10,codec='libtheora')\n",
    "ani.save('../video/us_inflation_unemployment_monthly_bp_filtered.mp4',writer=writer)\n",
    "\n",
    "# Save the final image of the animation to use as the still image placeholder\n",
    "plt.savefig('../image/us_inflation_unemployment_monthly_bp_filtered.png',bbox_inches='tight',dpi=120)"
   ]
  },
  {
   "cell_type": "code",
   "execution_count": 6,
   "metadata": {
    "collapsed": false,
    "jupyter": {
     "outputs_hidden": false
    }
   },
   "outputs": [],
   "source": [
    "# # Convert the mp4 video to ogg format\n",
    "# makeOgg = 'ffmpeg -i ../video/US_Inflation_Unemployment_Monthly_BP_Filtered.mp4 -acodec libvorbis -ac 2 -ab 128k -ar 44100 -b:v 1800k  ../video/US_Inflation_Unemployment_Monthly_BP_Filtered.ogv'\n",
    "# subprocess.call(makeOgg,shell=True)"
   ]
  }
 ],
 "metadata": {
  "kernelspec": {
   "display_name": "Python 3 (ipykernel)",
   "language": "python",
   "name": "python3"
  },
  "language_info": {
   "codemirror_mode": {
    "name": "ipython",
    "version": 3
   },
   "file_extension": ".py",
   "mimetype": "text/x-python",
   "name": "python",
   "nbconvert_exporter": "python",
   "pygments_lexer": "ipython3",
   "version": "3.12.7"
  }
 },
 "nbformat": 4,
 "nbformat_minor": 4
}
