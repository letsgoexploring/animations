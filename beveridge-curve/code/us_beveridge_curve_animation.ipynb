{
 "cells": [
  {
   "cell_type": "code",
   "execution_count": 1,
   "metadata": {},
   "outputs": [],
   "source": [
    "import matplotlib\n",
    "matplotlib.use(\"Agg\")\n",
    "import matplotlib.pyplot as plt\n",
    "import matplotlib.animation as animation\n",
    "import matplotlib.cm as cm\n",
    "import numpy as np\n",
    "import pandas as pd\n",
    "import subprocess\n",
    "import os\n",
    "\n",
    "plt.style.use('classic')\n",
    "plt.rcParams['figure.facecolor'] = 'white'"
   ]
  },
  {
   "cell_type": "code",
   "execution_count": 2,
   "metadata": {},
   "outputs": [],
   "source": [
    "data = pd.read_csv('https://raw.githubusercontent.com/letsgoexploring/economic-data/refs/heads/main/dmp/csv/beveridge_curve_data.csv',index_col=0,parse_dates=True)\n",
    "\n",
    "data = data.loc['1947':]\n",
    "u_rate = data['Unemployment [Thousands of persons]']/data['Labor force [Thousands of persons]']*100\n",
    "theta = data['Vacancies [Thousands of vacancies]']/data['Labor force [Thousands of persons]']*100\n",
    "\n",
    "# Set data for animation\n",
    "years = data.index.year.astype(str)\n",
    "n=len(data.index)"
   ]
  },
  {
   "cell_type": "code",
   "execution_count": 3,
   "metadata": {},
   "outputs": [],
   "source": [
    "# Plot setup\n",
    "font = {'weight' : 'bold',\n",
    "        'size'   : 15}\n",
    "plt.rc('font', **font)\n",
    "plt.rcParams['xtick.major.pad']='8'\n",
    "plt.rcParams['ytick.major.pad']='8'\n",
    "\n",
    "# Setup colormap\n",
    "cmap = plt.get_cmap('rainbow', n)\n",
    "colors = [cmap(i) for i in range(n)]\n",
    "\n",
    "# Initialize figure\n",
    "fig = plt.figure(figsize=(16,9))\n",
    "ax = fig.add_subplot(1,1,1)\n",
    "ax.grid()\n",
    "xdata, ydata = [], []\n",
    "ax.set_ylim(0, 3.5)\n",
    "ax.set_xlim(0, 16)\n",
    "ax.set_xlabel('Unemployment rate (%)')\n",
    "ax.set_ylabel('Vacancy rate (%)')\n",
    "ax.set_title('US Beveridge Curve',fontsize=20)\n",
    "\n",
    "# Placeholder for year text\n",
    "text = ax.text(13.5, 3.125, '',fontsize=18,horizontalalignment='right')\n",
    "\n",
    "# Watermark\n",
    "ax.text(12.125,0.25, 'Created by Brian C. Jenkins',fontsize=11, color='black',alpha=0.5)\n",
    "\n",
    "fig.tight_layout()\n",
    "\n",
    "# Function for updating the plot with new data points\n",
    "def update_plot(i):\n",
    "\n",
    "    scatter = ax.plot(u_rate.iloc[i],theta.iloc[i],'o',fillstyle='none',alpha=0.9,markeredgecolor=colors[i], markeredgewidth=2,markersize=13)\n",
    "    text.set_text(years[i])\n",
    "\n",
    "    return scatter, text"
   ]
  },
  {
   "cell_type": "code",
   "execution_count": 4,
   "metadata": {},
   "outputs": [],
   "source": [
    "# Make directories for output if they don't exist\n",
    "if not os.path.isdir('../video'):\n",
    "    os.mkdir('../video')\n",
    "\n",
    "if not os.path.isdir('../image'):\n",
    "    os.mkdir('../image')"
   ]
  },
  {
   "cell_type": "code",
   "execution_count": 5,
   "metadata": {},
   "outputs": [],
   "source": [
    "# Set up formatting for the movie files\n",
    "Writer = animation.writers['ffmpeg']\n",
    "writer = Writer(fps=10, metadata=dict(artist='Brian C Jenkins'), bitrate=5000)\n",
    "\n",
    "# Make the animation\n",
    "ani = animation.FuncAnimation(fig, update_plot, frames = n,fargs = (), blit=False,repeat=False,interval=20)\n",
    "\n",
    "# Save the animation as .mp4\n",
    "# ani.save('../video/US_Inflation_Unemployment_Monthly_BP_Filtered.ogv',fps=10,codec='libtheora')\n",
    "ani.save('../video/us_beveridge_curve.mp4',writer=writer)\n",
    "\n",
    "# Save the final image of the animation to use as the still image placeholder\n",
    "plt.savefig('../image/us_beveridge_curve.png',bbox_inches='tight',dpi=120)\n",
    "\n",
    "# # Convert the mp4 video to ogg format\n",
    "# makeOgg = 'ffmpeg -i ../video/US_Inflation_Unemployment_Monthly_BP_Filtered.mp4 -acodec libvorbis -ac 2 -ab 128k -ar 44100 -b:v 1800k  ../video/US_Inflation_Unemployment_Monthly_BP_Filtered.ogv'\n",
    "# subprocess.call(makeOgg,shell=True)"
   ]
  }
 ],
 "metadata": {
  "kernelspec": {
   "display_name": "Python 3 (ipykernel)",
   "language": "python",
   "name": "python3"
  },
  "language_info": {
   "codemirror_mode": {
    "name": "ipython",
    "version": 3
   },
   "file_extension": ".py",
   "mimetype": "text/x-python",
   "name": "python",
   "nbconvert_exporter": "python",
   "pygments_lexer": "ipython3",
   "version": "3.12.7"
  }
 },
 "nbformat": 4,
 "nbformat_minor": 4
}
